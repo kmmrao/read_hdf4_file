{
 "cells": [
  {
   "cell_type": "code",
   "execution_count": 1,
   "id": "17030c6a",
   "metadata": {},
   "outputs": [],
   "source": [
    "import os\n",
    "import matplotlib as mpl\n",
    "import matplotlib.pyplot as plt\n",
    "from mpl_toolkits.basemap import Basemap\n",
    "import numpy as np\n",
    "from pyhdf.SD import SD, SDC"
   ]
  },
  {
   "cell_type": "code",
   "execution_count": 3,
   "id": "f4abd560",
   "metadata": {},
   "outputs": [
    {
     "name": "stdout",
     "output_type": "stream",
     "text": [
      "{'Latitude': (('Cell_Along_Swath_5km:mod05', 'Cell_Across_Swath_5km:mod05'), (406, 270), 5, 0), 'Longitude': (('Cell_Along_Swath_5km:mod05', 'Cell_Across_Swath_5km:mod05'), (406, 270), 5, 1), 'Scan_Start_Time': (('Cell_Along_Swath_5km:mod05', 'Cell_Across_Swath_5km:mod05'), (406, 270), 6, 2), 'Solar_Zenith': (('Cell_Along_Swath_5km:mod05', 'Cell_Across_Swath_5km:mod05'), (406, 270), 22, 3), 'Solar_Azimuth': (('Cell_Along_Swath_5km:mod05', 'Cell_Across_Swath_5km:mod05'), (406, 270), 22, 4), 'Sensor_Zenith': (('Cell_Along_Swath_5km:mod05', 'Cell_Across_Swath_5km:mod05'), (406, 270), 22, 5), 'Sensor_Azimuth': (('Cell_Along_Swath_5km:mod05', 'Cell_Across_Swath_5km:mod05'), (406, 270), 22, 6), 'Cloud_Mask_QA': (('Cell_Along_Swath_1km:mod05', 'Cell_Across_Swath_1km:mod05'), (2030, 1354), 20, 7), 'Water_Vapor_Near_Infrared': (('Cell_Along_Swath_1km:mod05', 'Cell_Across_Swath_1km:mod05'), (2030, 1354), 22, 8), 'Water_Vapor_Correction_Factors': (('Cell_Along_Swath_1km:mod05', 'Cell_Across_Swath_1km:mod05'), (2030, 1354), 22, 9), 'Water_Vapor_Infrared': (('Cell_Along_Swath_5km:mod05', 'Cell_Across_Swath_5km:mod05'), (406, 270), 22, 10), 'Quality_Assurance_Near_Infrared': (('Cell_Along_Swath_1km:mod05', 'Cell_Across_Swath_1km:mod05', 'QA_Bytes_NIR:mod05'), (2030, 1354, 1), 20, 11), 'Quality_Assurance_Infrared': (('Cell_Along_Swath_5km:mod05', 'Cell_Across_Swath_5km:mod05', 'QA_Bytes_IR:mod05'), (406, 270, 5), 20, 12)}\n"
     ]
    }
   ],
   "source": [
    "# Open file.\n",
    "path = r'C:\\Users\\kmmra\\Downloads'\n",
    "FILE_NAME = '\\MOD05_L2.A2015225.2330.061.2017322101554.hdf'\n",
    "hdf = SD(path+FILE_NAME, SDC.READ)\n",
    "\n",
    "# List available SDS datasets.\n",
    "print(hdf.datasets())\n"
   ]
  },
  {
   "cell_type": "code",
   "execution_count": 4,
   "id": "3a588f8b",
   "metadata": {},
   "outputs": [],
   "source": [
    "lat = hdf.select('Latitude')\n",
    "lat2d = lat[:,:]"
   ]
  },
  {
   "cell_type": "code",
   "execution_count": 6,
   "id": "e8675be1",
   "metadata": {},
   "outputs": [],
   "source": [
    "lon = hdf.select('Longitude')\n",
    "lon2d = lon[:,:]"
   ]
  },
  {
   "cell_type": "code",
   "execution_count": 9,
   "id": "9e0dd5b5",
   "metadata": {},
   "outputs": [],
   "source": [
    "wv = hdf.select('Water_Vapor_Infrared')\n",
    "wv2d = wv[:,:]"
   ]
  },
  {
   "cell_type": "code",
   "execution_count": 34,
   "id": "8345a75f",
   "metadata": {},
   "outputs": [],
   "source": [
    "an_array = np.where(wv2d <0, np.nan, wv2d)"
   ]
  },
  {
   "cell_type": "code",
   "execution_count": 35,
   "id": "c58ff605",
   "metadata": {},
   "outputs": [
    {
     "data": {
      "text/plain": [
       "<matplotlib.contour.QuadContourSet at 0x26b28893910>"
      ]
     },
     "execution_count": 35,
     "metadata": {},
     "output_type": "execute_result"
    },
    {
     "data": {
      "image/png": "[encoded data removed]",
      "text/plain": [
       "<Figure size 432x288 with 1 Axes>"
      ]
     },
     "metadata": {
      "needs_background": "light"
     },
     "output_type": "display_data"
    }
   ],
   "source": [
    "plt.contourf(an_array,cmap='jet')\n"
   ]
  },
  {
   "cell_type": "code",
   "execution_count": 19,
   "id": "2eda69cc",
   "metadata": {},
   "outputs": [
    {
     "name": "stdout",
     "output_type": "stream",
     "text": [
      "51.222054\n"
     ]
    }
   ],
   "source": [
    "print(lat2d[0,0])"
   ]
  },
  {
   "cell_type": "code",
   "execution_count": 33,
   "id": "1bb87754",
   "metadata": {},
   "outputs": [
    {
     "data": {
      "text/plain": [
       "0"
      ]
     },
     "execution_count": 33,
     "metadata": {},
     "output_type": "execute_result"
    }
   ],
   "source": [
    "an_array.min()"
   ]
  },
  {
   "cell_type": "code",
   "execution_count": null,
   "id": "801ca848",
   "metadata": {},
   "outputs": [],
   "source": []
  }
 ],
 "metadata": {
  "kernelspec": {
   "display_name": "Python 3",
   "language": "python",
   "name": "python3"
  },
  "language_info": {
   "codemirror_mode": {
    "name": "ipython",
    "version": 3
   },
   "file_extension": ".py",
   "mimetype": "text/x-python",
   "name": "python",
   "nbconvert_exporter": "python",
   "pygments_lexer": "ipython3",
   "version": "3.8.8"
  }
 },
 "nbformat": 4,
 "nbformat_minor": 5
}
